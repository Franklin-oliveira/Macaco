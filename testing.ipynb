{
 "cells": [
  {
   "cell_type": "code",
   "execution_count": 37,
   "metadata": {},
   "outputs": [],
   "source": [
    "from dataframe import *\n",
    "\n",
    "\n",
    "class DataFrame():\n",
    "    \"\"\"docstring for DataFrameMc\"\"\"\n",
    "    def __init__(self,dados=None):\n",
    "        self.df = dataframe()\n",
    "        self.colunas = {}\n",
    "        self.shape = [0,0]\n",
    "        if dados != None:\n",
    "            for coluna in dados:\n",
    "                self.addColumn(dados[coluna], str(coluna))\n",
    "\n",
    "\n",
    "    def addColumn(self, values, col_name):\n",
    "        # Infere o tipo do dado. Caso encontre multiplos,\n",
    "        # transforma em string\n",
    "    \n",
    "        if all(isinstance(x, int) for x in values):\n",
    "            if self.shape == [0,0]:\n",
    "                self.df.InsertIntColumn(values, col_name)\n",
    "                self.colunas[col_name] ='int'\n",
    "                self.shape[0] = len(values)\n",
    "                self.shape[1] += 1\n",
    "            elif self.shape[0] != len(values):\n",
    "                raise Exception(\"Coluna com tamanhos diferentes.\")\n",
    "            else:\n",
    "                self.df.InsertIntColumn(values, col_name)\n",
    "                self.colunas[col_name] ='int'\n",
    "                self.shape[1] += 1\n",
    "\n",
    "        elif all(isinstance(x, (float,int)) for x in values):\n",
    "            if self.shape == [0,0]:\n",
    "                self.df.InsertDoubleColumn(values, col_name)\n",
    "                self.colunas[col_name] ='double'\n",
    "                self.shape[0] = len(values)\n",
    "                self.shape[1] += 1\n",
    "            elif self.shape[0] != len(values):\n",
    "                raise Exception(\"Coluna com tamanhos diferentes.\")\n",
    "            else:\n",
    "                self.df.InsertDoubleColumn(values, col_name)\n",
    "                self.colunas[col_name] ='double'\n",
    "                self.shape[1] += 1\n",
    "\n",
    "        else:\n",
    "            if not all(isinstance(x, str) for x in values):\n",
    "                valores = [str(i) for i in list(values)]\n",
    "            if self.shape == [0,0]:\n",
    "                self.df.InsertStringColumn(values,col_name)\n",
    "                self.colunas[col_name] ='string'\n",
    "                self.shape[0] = len(values)\n",
    "                self.shape[1] += 1\n",
    "            elif self.shape[0] != len(values):\n",
    "                raise Exception(\"Coluna com tamanhos diferentes.\")\n",
    "            else:\n",
    "                self.df.InsertStringColumn(values,col_name)\n",
    "                self.colunas[col_name] ='string'\n",
    "                self.shape[1] += 1\n",
    "                \n",
    "\n",
    "    def PopColumn(self,column_name):\n",
    "        '''\n",
    "        Remove coluna do dataframe.\n",
    "        '''\n",
    "        if self.colunas[column_name] == 'int':\n",
    "            self.df.PopIntColumn([], column_name)\n",
    "            self.colunas.pop(column_name)\n",
    "\n",
    "        elif self.colunas[column_name] == 'double':\n",
    "            self.df.PopDoubleColumn([], column_name)\n",
    "            self.colunas.pop(column_name)\n",
    "\n",
    "        elif self.colunas[column_name] == 'string':\n",
    "            self.df.PopStringColumn([], column_name)\n",
    "            self.colunas.pop(column_name)\n",
    "\n",
    "            \n",
    "    def GetColumn(self,col_name):\n",
    "        if self.colunas[col_name] == 'int':\n",
    "            return self.df.GetIntColumn(col_name)\n",
    "        elif self.colunas[col_name] == 'double':\n",
    "            return self.df.GetDoubleColumn(col_name)\n",
    "        elif self.colunas[col_name] == 'string':\n",
    "            return self.df.GetStringColumn(col_name)\n",
    "        \n",
    "    # head & tail\n",
    "    # plot\n",
    "    # def GetLinha(linha)\n",
    "    # def GetColuna(coluna)\n",
    "    # def GetLoc(linha,coluna)\n",
    "    # def Query()"
   ]
  },
  {
   "cell_type": "code",
   "execution_count": 38,
   "metadata": {},
   "outputs": [],
   "source": [
    "df = DataFrame({'b': ['a','b','c'], 'a': [1.1,2.1,3]})"
   ]
  },
  {
   "cell_type": "code",
   "execution_count": 36,
   "metadata": {},
   "outputs": [
    {
     "data": {
      "text/plain": [
       "{'b': 'string', 'a': 'double'}"
      ]
     },
     "execution_count": 36,
     "metadata": {},
     "output_type": "execute_result"
    }
   ],
   "source": [
    "df.colunas"
   ]
  },
  {
   "cell_type": "code",
   "execution_count": 11,
   "metadata": {},
   "outputs": [
    {
     "data": {
      "text/plain": [
       "[1.1, 2.1, 3.0]"
      ]
     },
     "execution_count": 11,
     "metadata": {},
     "output_type": "execute_result"
    }
   ],
   "source": [
    "df.GetColumn('a')"
   ]
  },
  {
   "cell_type": "code",
   "execution_count": 12,
   "metadata": {},
   "outputs": [],
   "source": [
    "df.PopColumn('a')"
   ]
  },
  {
   "cell_type": "code",
   "execution_count": 13,
   "metadata": {},
   "outputs": [
    {
     "ename": "KeyError",
     "evalue": "'a'",
     "output_type": "error",
     "traceback": [
      "\u001b[0;31m---------------------------------------------------------------------------\u001b[0m",
      "\u001b[0;31mKeyError\u001b[0m                                  Traceback (most recent call last)",
      "\u001b[0;32m<ipython-input-13-6efc29839708>\u001b[0m in \u001b[0;36m<module>\u001b[0;34m\u001b[0m\n\u001b[0;32m----> 1\u001b[0;31m \u001b[0mdf\u001b[0m\u001b[0;34m.\u001b[0m\u001b[0mGetColumn\u001b[0m\u001b[0;34m(\u001b[0m\u001b[0;34m'a'\u001b[0m\u001b[0;34m)\u001b[0m\u001b[0;34m\u001b[0m\u001b[0;34m\u001b[0m\u001b[0m\n\u001b[0m",
      "\u001b[0;32m<ipython-input-7-3ed39d0204c3>\u001b[0m in \u001b[0;36mGetColumn\u001b[0;34m(self, col_name)\u001b[0m\n\u001b[1;32m     49\u001b[0m \u001b[0;34m\u001b[0m\u001b[0m\n\u001b[1;32m     50\u001b[0m     \u001b[0;32mdef\u001b[0m \u001b[0mGetColumn\u001b[0m\u001b[0;34m(\u001b[0m\u001b[0mself\u001b[0m\u001b[0;34m,\u001b[0m\u001b[0mcol_name\u001b[0m\u001b[0;34m)\u001b[0m\u001b[0;34m:\u001b[0m\u001b[0;34m\u001b[0m\u001b[0;34m\u001b[0m\u001b[0m\n\u001b[0;32m---> 51\u001b[0;31m         \u001b[0;32mif\u001b[0m \u001b[0mself\u001b[0m\u001b[0;34m.\u001b[0m\u001b[0mcolunas\u001b[0m\u001b[0;34m[\u001b[0m\u001b[0mcol_name\u001b[0m\u001b[0;34m]\u001b[0m \u001b[0;34m==\u001b[0m \u001b[0;34m'int'\u001b[0m\u001b[0;34m:\u001b[0m\u001b[0;34m\u001b[0m\u001b[0;34m\u001b[0m\u001b[0m\n\u001b[0m\u001b[1;32m     52\u001b[0m             \u001b[0;32mreturn\u001b[0m \u001b[0mself\u001b[0m\u001b[0;34m.\u001b[0m\u001b[0mdf\u001b[0m\u001b[0;34m.\u001b[0m\u001b[0mGetIntColumn\u001b[0m\u001b[0;34m(\u001b[0m\u001b[0mcol_name\u001b[0m\u001b[0;34m)\u001b[0m\u001b[0;34m\u001b[0m\u001b[0;34m\u001b[0m\u001b[0m\n\u001b[1;32m     53\u001b[0m         \u001b[0;32melif\u001b[0m \u001b[0mself\u001b[0m\u001b[0;34m.\u001b[0m\u001b[0mcolunas\u001b[0m\u001b[0;34m[\u001b[0m\u001b[0mcol_name\u001b[0m\u001b[0;34m]\u001b[0m \u001b[0;34m==\u001b[0m \u001b[0;34m'double'\u001b[0m\u001b[0;34m:\u001b[0m\u001b[0;34m\u001b[0m\u001b[0;34m\u001b[0m\u001b[0m\n",
      "\u001b[0;31mKeyError\u001b[0m: 'a'"
     ]
    }
   ],
   "source": [
    "df.GetColumn('a')"
   ]
  }
 ],
 "metadata": {
  "kernelspec": {
   "display_name": "Python 3",
   "language": "python",
   "name": "python3"
  },
  "language_info": {
   "codemirror_mode": {
    "name": "ipython",
    "version": 3
   },
   "file_extension": ".py",
   "mimetype": "text/x-python",
   "name": "python",
   "nbconvert_exporter": "python",
   "pygments_lexer": "ipython3",
   "version": "3.7.3"
  }
 },
 "nbformat": 4,
 "nbformat_minor": 2
}
