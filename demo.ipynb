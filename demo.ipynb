{
 "cells": [
  {
   "cell_type": "code",
   "execution_count": 319,
   "metadata": {},
   "outputs": [],
   "source": [
    "from dataframe import *\n",
    "\n",
    "\n",
    "class DataFrame():\n",
    "    \"\"\"docstring for DataFrameMc\"\"\"\n",
    "    def __init__(self,dados=None):\n",
    "        self.df = dataframe()\n",
    "        self.colunas = {}\n",
    "        self.shape = [0,0]\n",
    "        if dados != None:\n",
    "            for coluna in dados:\n",
    "                self.addColumn(dados[coluna], str(coluna))\n",
    "\n",
    "    def addColumn(self, values, col_name):\n",
    "        # Infere o tipo do dado. Caso encontre multiplos,\n",
    "        # transforma em string\n",
    "    \n",
    "        if all(isinstance(x, int) for x in values):\n",
    "            if self.shape == [0,0]:\n",
    "                self.df.InsertIntColumn(values, col_name)\n",
    "                self.colunas[col_name] ='int'\n",
    "                self.shape[0] = len(values)\n",
    "                self.shape[1] += 1\n",
    "            elif self.shape[0] != len(values):\n",
    "                raise Exception(\"Coluna com tamanhos diferentes.\")\n",
    "            else:\n",
    "                self.df.InsertIntColumn(values, col_name)\n",
    "                self.colunas[col_name] ='int'\n",
    "                self.shape[1] += 1\n",
    "\n",
    "        elif all(isinstance(x, (float,int)) for x in values):\n",
    "            if self.shape == [0,0]:\n",
    "                self.df.InsertDoubleColumn(values, col_name)\n",
    "                self.colunas[col_name] ='double'\n",
    "                self.shape[0] = len(values)\n",
    "                self.shape[1] += 1\n",
    "            elif self.shape[0] != len(values):\n",
    "                raise Exception(\"Coluna com tamanhos diferentes.\")\n",
    "            else:\n",
    "                self.df.InsertDoubleColumn(values, col_name)\n",
    "                self.colunas[col_name] ='double'\n",
    "                self.shape[1] += 1\n",
    "\n",
    "        else:\n",
    "            if not all(isinstance(x, str) for x in values):\n",
    "                valores = [str(i) for i in list(values)]\n",
    "            if self.shape == [0,0]:\n",
    "                self.df.InsertStringColumn(values,col_name)\n",
    "                self.colunas[col_name] ='string'\n",
    "                self.shape[0] = len(values)\n",
    "                self.shape[1] += 1\n",
    "            elif self.shape[0] != len(values):\n",
    "                raise Exception(\"Coluna com tamanhos diferentes.\")\n",
    "            else:\n",
    "                self.df.InsertStringColumn(values,col_name)\n",
    "                self.colunas[col_name] ='string'\n",
    "                self.shape[1] += 1\n",
    "                \n",
    "\n",
    "    def PopColumn(self,column_name):\n",
    "        '''\n",
    "        Remove coluna do dataframe.\n",
    "        '''\n",
    "        if self.colunas[column_name] == 'int':\n",
    "            self.df.PopIntColumn([], column_name)\n",
    "            self.colunas.pop(column_name)\n",
    "            self.shape[1] -= 1\n",
    "\n",
    "        elif self.colunas[column_name] == 'double':\n",
    "            self.df.PopDoubleColumn([], column_name)\n",
    "            self.colunas.pop(column_name)\n",
    "            self.shape[1] -= 1\n",
    "            \n",
    "        elif self.colunas[column_name] == 'string':\n",
    "            self.df.PopStringColumn([], column_name)\n",
    "            self.colunas.pop(column_name)\n",
    "            self.shape[1] -= 1\n",
    "            \n",
    "            \n",
    "    def GetColumn(self,col_name):\n",
    "        if self.colunas[col_name] == 'int':\n",
    "            return self.df.GetIntColumn(col_name)\n",
    "        elif self.colunas[col_name] == 'double':\n",
    "            return self.df.GetDoubleColumn(col_name)\n",
    "        elif self.colunas[col_name] == 'string':\n",
    "            return self.df.GetStringColumn(col_name)\n",
    "        \n",
    "\n",
    "    def info(self):\n",
    "        print('< macaco.DataFrame >')\n",
    "        print('RangeIndex: ') ### fazer!!!\n",
    "        print('Total of lines: {}'.format(self.shape[0]))\n",
    "        print('Data ({} columns):'.format(self.shape[1]))\n",
    "        \n",
    "        cols = list(self.colunas.keys())\n",
    "        dtypes = list(self.colunas.values())\n",
    "        for i in range(len(cols)):\n",
    "            if dtypes[i] == 'int':\n",
    "                vector = self.df.GetIntColumn(cols[i])\n",
    "            elif dtypes[i] == 'double':\n",
    "                vector = self.df.GetDoubleColumn(cols[i])\n",
    "            elif dtypes[i] == 'string':\n",
    "                vector = self.df.GetStringColumn(cols[i])\n",
    "\n",
    "            print(cols[i], ' ', sum([v != None for v in vector]), 'non-null entries ' ,dtypes[i])\n",
    "    \n",
    "    \n",
    "    def head(self, n_lines=5):\n",
    "        '''\n",
    "        Exibe as primeiras linhas do dataframe. \n",
    "        \n",
    "        A primeira lista são as colunas. \n",
    "        Depois, cada lista corresponde a uma linha.\n",
    "        '''\n",
    "        cols = list(self.colunas.keys())\n",
    "        dtypes = list(self.colunas.values())\n",
    "        \n",
    "        d = {}\n",
    "        for i in range(len(cols)):\n",
    "            if dtypes[i] == 'int':\n",
    "                vector = self.df.GetIntColumn(cols[i])[:n_lines]\n",
    "                d[cols[i]] = vector\n",
    "            elif dtypes[i] == 'double':\n",
    "                vector = self.df.GetDoubleColumn(cols[i])[:n_lines]\n",
    "                d[cols[i]] = vector\n",
    "            elif dtypes[i] == 'string':\n",
    "                vector = self.df.GetStringColumn(cols[i])[:n_lines]\n",
    "                d[cols[i]] = vector\n",
    "        \n",
    "        print(cols)\n",
    "        for i in range(n_lines):\n",
    "            line = []\n",
    "            for col in cols:\n",
    "                line.append(d[col][i])    \n",
    "            print(line)\n",
    "    \n",
    "    \n",
    "    def tail(self, n_lines=5):\n",
    "        '''\n",
    "        Exibe as primeiras linhas do dataframe. \n",
    "        \n",
    "        A primeira lista são as colunas. \n",
    "        Depois, cada lista corresponde a uma linha.\n",
    "        '''\n",
    "        cols = list(self.colunas.keys())\n",
    "        dtypes = list(self.colunas.values())\n",
    "        \n",
    "        d = {}\n",
    "        for i in range(len(cols)):\n",
    "            if dtypes[i] == 'int':\n",
    "                vector = self.df.GetIntColumn(cols[i])[-n_lines:]\n",
    "                d[cols[i]] = vector\n",
    "            elif dtypes[i] == 'double':\n",
    "                vector = self.df.GetDoubleColumn(cols[i])[-n_lines:]\n",
    "                d[cols[i]] = vector\n",
    "            elif dtypes[i] == 'string':\n",
    "                vector = self.df.GetStringColumn(cols[i])[-n_lines:]\n",
    "                d[cols[i]] = vector\n",
    "        \n",
    "        print(cols)\n",
    "        for i in range(n_lines):\n",
    "            line = []\n",
    "            for col in cols:\n",
    "                line.append(d[col][i])    \n",
    "            print(line)\n",
    "\n",
    "        \n",
    "    # plot\n",
    "    # def GetLinha(linha)\n",
    "    # def GetColuna(coluna)\n",
    "    # def GetLoc(linha,coluna)\n",
    "    # def Query()"
   ]
  },
  {
   "cell_type": "code",
   "execution_count": 320,
   "metadata": {},
   "outputs": [],
   "source": [
    "df = DataFrame({'b': ['a','b','c'], 'a': [1.1,2.1,3], 'c':[1,2,3]})"
   ]
  },
  {
   "cell_type": "code",
   "execution_count": 321,
   "metadata": {},
   "outputs": [
    {
     "data": {
      "text/plain": [
       "{'b': 'string', 'a': 'double', 'c': 'int'}"
      ]
     },
     "execution_count": 321,
     "metadata": {},
     "output_type": "execute_result"
    }
   ],
   "source": [
    "df.colunas"
   ]
  },
  {
   "cell_type": "code",
   "execution_count": 322,
   "metadata": {},
   "outputs": [
    {
     "name": "stdout",
     "output_type": "stream",
     "text": [
      "< macaco.DataFrame >\n",
      "RangeIndex: \n",
      "Total of lines: 3\n",
      "Data (3 columns):\n",
      "b   3 non-null entries  string\n",
      "a   3 non-null entries  double\n",
      "c   3 non-null entries  int\n"
     ]
    }
   ],
   "source": [
    "df.info()"
   ]
  },
  {
   "cell_type": "code",
   "execution_count": 326,
   "metadata": {},
   "outputs": [
    {
     "name": "stdout",
     "output_type": "stream",
     "text": [
      "['b', 'a', 'c']\n",
      "['b', 2.1, 2]\n",
      "['c', 3.0, 3]\n"
     ]
    }
   ],
   "source": [
    "df.tail(2)"
   ]
  },
  {
   "cell_type": "markdown",
   "metadata": {},
   "source": [
    "## Importando o pacote Macaco"
   ]
  },
  {
   "cell_type": "code",
   "execution_count": 42,
   "metadata": {},
   "outputs": [],
   "source": [
    "import macaco as mc"
   ]
  },
  {
   "cell_type": "markdown",
   "metadata": {},
   "source": [
    "## Criando dataframe"
   ]
  },
  {
   "cell_type": "code",
   "execution_count": 43,
   "metadata": {},
   "outputs": [],
   "source": [
    "df = mc.DataFrame({'b': ['a','b','c'], 'a': [1.1,2.1,3]})"
   ]
  },
  {
   "cell_type": "code",
   "execution_count": 44,
   "metadata": {},
   "outputs": [
    {
     "data": {
      "text/plain": [
       "{'b': 'string', 'a': 'double'}"
      ]
     },
     "execution_count": 44,
     "metadata": {},
     "output_type": "execute_result"
    }
   ],
   "source": [
    "df.colunas"
   ]
  },
  {
   "cell_type": "markdown",
   "metadata": {},
   "source": [
    "## Inserindo mais uma coluna"
   ]
  },
  {
   "cell_type": "code",
   "execution_count": 45,
   "metadata": {},
   "outputs": [],
   "source": [
    "df.addColumn([1,2,3],'c')"
   ]
  },
  {
   "cell_type": "markdown",
   "metadata": {},
   "source": [
    "## Retornando coluna"
   ]
  },
  {
   "cell_type": "code",
   "execution_count": 46,
   "metadata": {},
   "outputs": [
    {
     "data": {
      "text/plain": [
       "[1, 2, 3]"
      ]
     },
     "execution_count": 46,
     "metadata": {},
     "output_type": "execute_result"
    }
   ],
   "source": [
    "df.GetColumn('c')"
   ]
  },
  {
   "cell_type": "markdown",
   "metadata": {},
   "source": [
    "## Removendo coluna"
   ]
  },
  {
   "cell_type": "code",
   "execution_count": 47,
   "metadata": {},
   "outputs": [],
   "source": [
    "df.PopColumn('c')"
   ]
  },
  {
   "cell_type": "code",
   "execution_count": 49,
   "metadata": {},
   "outputs": [
    {
     "data": {
      "text/plain": [
       "{'b': 'string', 'a': 'double'}"
      ]
     },
     "execution_count": 49,
     "metadata": {},
     "output_type": "execute_result"
    }
   ],
   "source": [
    "df.colunas"
   ]
  }
 ],
 "metadata": {
  "kernelspec": {
   "display_name": "Python 3",
   "language": "python",
   "name": "python3"
  },
  "language_info": {
   "codemirror_mode": {
    "name": "ipython",
    "version": 3
   },
   "file_extension": ".py",
   "mimetype": "text/x-python",
   "name": "python",
   "nbconvert_exporter": "python",
   "pygments_lexer": "ipython3",
   "version": "3.7.3"
  }
 },
 "nbformat": 4,
 "nbformat_minor": 2
}
