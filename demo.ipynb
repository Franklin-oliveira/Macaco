{
 "cells": [
  {
   "cell_type": "code",
   "execution_count": 203,
   "metadata": {},
   "outputs": [],
   "source": [
    "from dataframe import *\n",
    "import matplotlib.pyplot as plt\n",
    "\n",
    "\n",
    "class DataFrame():\n",
    "    '''\n",
    "    Macaco.DataFrame\n",
    "    '''\n",
    "    \n",
    "    def __init__(self,dados=None):\n",
    "        self.df = dataframe()\n",
    "        self.columns = {}\n",
    "        self.shape = [0,0]\n",
    "        if dados != None:\n",
    "            for coluna in dados:\n",
    "                self.addColumn(dados[coluna], str(coluna))\n",
    "\n",
    "    def addColumn(self, values, col_name):\n",
    "        # Infere o tipo do dado. Caso encontre multiplos,\n",
    "        # transforma em string\n",
    "    \n",
    "        if all(isinstance(x, int) for x in values):\n",
    "            if self.shape == [0,0]:\n",
    "                self.df.addIntColumn(values, col_name)\n",
    "                self.columns[col_name] ='int'\n",
    "                self.shape[1] += 1\n",
    "                self.shape[0] = len(values)\n",
    "                \n",
    "            elif self.shape[0] != len(values):\n",
    "                raise ValueError(\"Columns with different sizes\")\n",
    "                \n",
    "            else:\n",
    "                self.df.addIntColumn(values, col_name)\n",
    "                self.columns[col_name] ='int'\n",
    "                self.shape[1] += 1\n",
    "\n",
    "        elif all(isinstance(x, (float,int)) for x in values):\n",
    "            if self.shape == [0,0]:\n",
    "                self.df.addDoubleColumn(values, col_name)\n",
    "                self.columns[col_name] ='double'\n",
    "                self.shape[1] += 1\n",
    "                self.shape[0] = len(values)\n",
    "                \n",
    "            elif self.shape[0] != len(values):\n",
    "                raise ValueError(\"Columns with different sizes\")\n",
    "                \n",
    "            else:\n",
    "                self.df.addDoubleColumn(values, col_name)\n",
    "                self.columns[col_name] ='double'\n",
    "                self.shape[1] += 1\n",
    "\n",
    "        else:\n",
    "            if not all(isinstance(x, str) for x in values):\n",
    "                values = [str(i) for i in list(values)]\n",
    "                \n",
    "            if self.shape == [0,0]:\n",
    "                self.df.addStringColumn(values,col_name)\n",
    "                self.columns[col_name] ='string'\n",
    "                self.shape[1] += 1\n",
    "                self.shape[0] = len(values)\n",
    "                \n",
    "            elif self.shape[0] != len(values):\n",
    "                raise ValueError(\"Columns with different sizes\")\n",
    "                \n",
    "            else:\n",
    "                self.df.addStringColumn(values, col_name)\n",
    "                self.columns[col_name] ='string'\n",
    "                self.shape[1] += 1\n",
    "                \n",
    "\n",
    "    def popColumn(self,column_name):\n",
    "        '''\n",
    "        Remove coluna do DataFrame.\n",
    "        '''\n",
    "        if self.columns[column_name] == 'int':\n",
    "            self.df.popIntColumn([], column_name)\n",
    "            self.columns.pop(column_name)\n",
    "            self.shape[1] -= 1\n",
    "\n",
    "        elif self.columns[column_name] == 'double':\n",
    "            self.df.popDoubleColumn([], column_name)\n",
    "            self.columns.pop(column_name)\n",
    "            self.shape[1] -= 1\n",
    "\n",
    "        elif self.columns[column_name] == 'string':\n",
    "            self.df.popStringColumn([], column_name)\n",
    "            self.columns.pop(column_name)\n",
    "            self.shape[1] -= 1\n",
    "\n",
    "            \n",
    "    def getColumn(self,col_name):\n",
    "        '''\n",
    "        Retorna a coluna indicada do DataFrame.\n",
    "        '''\n",
    "        if self.columns[col_name] == 'int':\n",
    "            return self.df.getIntColumn(col_name)\n",
    "        elif self.columns[col_name] == 'double':\n",
    "            return self.df.getDoubleColumn(col_name)\n",
    "        elif self.columns[col_name] == 'string':\n",
    "            return self.df.getStringColumn(col_name)\n",
    "        \n",
    "\n",
    "    def info(self):\n",
    "        print('< macaco.DataFrame >')\n",
    "        print('RangeIndex: ') ### fazer!!!\n",
    "        print('Total of lines: {}'.format(self.shape[0]))\n",
    "        print('Data ({} columns):'.format(self.shape[1]))\n",
    "        \n",
    "        cols = list(self.columns.keys())\n",
    "        dtypes = list(self.columns.values())\n",
    "        for i in range(len(cols)):\n",
    "            if dtypes[i] == 'int':\n",
    "                vector = self.df.getIntColumn(cols[i])\n",
    "            elif dtypes[i] == 'double':\n",
    "                vector = self.df.getDoubleColumn(cols[i])\n",
    "            elif dtypes[i] == 'string':\n",
    "                vector = self.df.getStringColumn(cols[i])\n",
    "\n",
    "            print(cols[i], ' ', sum([v != None for v in vector]), 'non-null entries ' ,dtypes[i])\n",
    "    \n",
    "    \n",
    "    def head(self, n_lines=5):\n",
    "        '''\n",
    "        Exibe as primeiras linhas do dataframe. \n",
    "        \n",
    "        A primeira lista são as colunas. \n",
    "        Depois, cada lista corresponde a uma linha.\n",
    "        '''\n",
    "        cols = list(self.columns.keys())\n",
    "        dtypes = list(self.columns.values())\n",
    "        \n",
    "        d = {}\n",
    "        for i in range(len(cols)):\n",
    "            if dtypes[i] == 'int':\n",
    "                vector = self.df.getIntColumn(cols[i])[:n_lines]\n",
    "                d[cols[i]] = vector\n",
    "            elif dtypes[i] == 'double':\n",
    "                vector = self.df.getDoubleColumn(cols[i])[:n_lines]\n",
    "                d[cols[i]] = vector\n",
    "            elif dtypes[i] == 'string':\n",
    "                vector = self.df.getStringColumn(cols[i])[:n_lines]\n",
    "                d[cols[i]] = vector\n",
    "        \n",
    "        print(cols)\n",
    "        for i in range(n_lines):\n",
    "            line = []\n",
    "            for col in cols:\n",
    "                line.append(d[col][i])    \n",
    "            print(line)\n",
    "    \n",
    "    \n",
    "    def tail(self, n_lines=5):\n",
    "        '''\n",
    "        Exibe as últimas linhas do dataframe. \n",
    "        \n",
    "        A primeira lista são as colunas. \n",
    "        Depois, cada lista corresponde a uma linha.\n",
    "        '''\n",
    "        cols = list(self.columns.keys())\n",
    "        dtypes = list(self.columns.values())\n",
    "        \n",
    "        d = {}\n",
    "        for i in range(len(cols)):\n",
    "            if dtypes[i] == 'int':\n",
    "                vector = self.df.getIntColumn(cols[i])[-n_lines:]\n",
    "                d[cols[i]] = vector\n",
    "            elif dtypes[i] == 'double':\n",
    "                vector = self.df.getDoubleColumn(cols[i])[-n_lines:]\n",
    "                d[cols[i]] = vector\n",
    "            elif dtypes[i] == 'string':\n",
    "                vector = self.df.getStringColumn(cols[i])[-n_lines:]\n",
    "                d[cols[i]] = vector\n",
    "        \n",
    "        print(cols)\n",
    "        for i in range(n_lines):\n",
    "            line = []\n",
    "            for col in cols:\n",
    "                line.append(d[col][i])    \n",
    "            print(line)  \n",
    "    \n",
    "    \n",
    "    def plot(self, y = None, x = None, kind='line', remove_frames='no',style='seaborn-white',\n",
    "             axe = None, **kwargs):\n",
    "        '''\n",
    "        Faz um plot com as colunas x e y.\n",
    "        \n",
    "        Argumentos: \n",
    "            - y: nome da coluna para o eixo y\n",
    "            - x: nome da coluna para o eixo x\n",
    "            - kind: tipo de gráfico \n",
    "                'line': linha (default)\n",
    "                'bar': barras verticais\n",
    "                'barh': barras horizontais\n",
    "                'hist': histograma\n",
    "                'scatter': dispersão\n",
    "            - axe: eixo para fazer o plot (plt.axes)\n",
    "                \n",
    "        Para mais configurações, visite a documentação do matplotlib.pyplot\n",
    "        '''\n",
    "        plt.style.use(style)\n",
    "        \n",
    "        # preparando os dados\n",
    "        if x == None:\n",
    "            x = list(range(self.shape[0]))\n",
    "        else:\n",
    "            x = df.getColumn(x)\n",
    "        \n",
    "        if y == None:\n",
    "            y = []\n",
    "            for col in list(self.columns.keys()):\n",
    "                if self.columns[col] != 'string':\n",
    "                    y.append(col)\n",
    "        \n",
    "        d = {}\n",
    "        if type(y) == list:\n",
    "            for col in y:\n",
    "                if self.columns[col] == 'int':\n",
    "                    d[col] = self.df.getIntColumn(col)\n",
    "                elif self.columns[col] == 'double':\n",
    "                    d[col] = self.df.getDoubleColumn(col)\n",
    "                # se é string, levanta um erro\n",
    "                elif self.columns[y] == 'string':\n",
    "                    raise ValueError('Cannot plot string vector')\n",
    "        else:\n",
    "            if self.columns[y] == 'int':\n",
    "                d[y] = self.df.getIntColumn(y)\n",
    "            elif self.columns[y] == 'double':\n",
    "                d[y] = self.df.getDoubleColumn(y)\n",
    "            # se é string, levanta um erro\n",
    "            elif self.columns[y] == 'string':\n",
    "                raise ValueError('Cannot plot string vector')\n",
    "\n",
    "        # permite passar um eixo para o plot\n",
    "        ax = kwargs.get('axe')\n",
    "        if ax == None:\n",
    "            fig, ax = plt.subplots(figsize=kwargs.get('figsize'))\n",
    "        \n",
    "        #plt.figure(figsize=kwargs.get('figsize'), num=kwargs.get('num'),  dpi=kwargs.get('dpi'),\n",
    "        #           facecolor=kwargs.get('facecolor'), edgecolor=kwargs.get('edgecolor'))\n",
    "        \n",
    "        # gráfico de linha (padrão)\n",
    "        if kind.lower() == 'line':\n",
    "            # ajustando argumentos padrão\n",
    "            if kwargs.get('scalex') == None:\n",
    "                scalex = True\n",
    "            else:\n",
    "                scalex = kwargs.get('scalex')\n",
    "            \n",
    "            if kwargs.get('scaley') == None:\n",
    "                scaley = True\n",
    "            else:\n",
    "                scaley = kwargs.get('scaley')\n",
    "            \n",
    "            if type(y) == list:\n",
    "                for col in y:\n",
    "                    ax.plot(x,d[col], scalex= scalex, scaley = scaley, \n",
    "                         color=kwargs.get('color'))\n",
    "            else:\n",
    "                ax.plot(x,d[y], scalex= scalex, scaley = scaley, \n",
    "                         color=kwargs.get('color'))\n",
    "        # histograma\n",
    "        elif kind == 'hist':\n",
    "            # tratando argumentos padrão\n",
    "            if kwargs.get('histtype') == None:\n",
    "                histtype = 'bar'\n",
    "            else:\n",
    "                histtype = kwargs.get('histtype')\n",
    "            \n",
    "            if kwargs.get('align') == None:\n",
    "                align = 'mid'\n",
    "            else:\n",
    "                align = kwargs.get('align')\n",
    "            \n",
    "            if kwargs.get('orientation') == None:\n",
    "                orientation = 'vertical'\n",
    "            else:\n",
    "                orientation = kwargs.get('orientation')\n",
    "                \n",
    "            ax.hist(y_data, bins = kwargs.get('bins'), color=kwargs.get('color'), \n",
    "                     range=kwargs.get('range'), density=kwargs.get('density'),\n",
    "                     weights=kwargs.get('weights'), cumulative=kwargs.get('cumulative'),\n",
    "                     bottom=kwargs.get('bottom'), rwidth=kwargs.get('rwidth'), \n",
    "                     log=kwargs.get('log'), label=kwargs.get('label'),\n",
    "                     stacked=kwargs.get('stacked'), normed=kwargs.get('normed'),\n",
    "                     histtype=histtype, align=align, orientation=orientation, alpha=kwargs.get('alpha'))\n",
    "        \n",
    "        # Scatter\n",
    "        elif kind == 'scatter':\n",
    "            ax.scatter(x = x, y = y_data, s=kwargs.get('s'), c=kwargs.get('c'), \n",
    "                       marker= kwargs.get('marker'), cmap= kwargs.get('cmap'),\n",
    "                       norm= kwargs.get('norm'), vmin=kwargs.get('vmin'),\n",
    "                       vmax= kwargs.get('vmax'), alpha=kwargs.get('alpha'), \n",
    "                       linewidths= kwargs.get('linewidths'), verts= kwargs.get('verts'),\n",
    "                       edgecolors= kwargs.get('edgecolors'), data=kwargs.get('data'))\n",
    "        \n",
    "        # Bar\n",
    "        elif kind == 'bar':\n",
    "            if kwargs.get('width') == None:\n",
    "                width = 0.8\n",
    "            else:\n",
    "                width = kwargs.get('width')\n",
    "            if kwargs.get('align') == None:\n",
    "                align = 'center'\n",
    "            else:\n",
    "                align = kwargs.get('align')\n",
    "        \n",
    "            ax.bar(x = x, height= y_data, width= width, bottom=kwargs.get('bottom'), align= align,\n",
    "                   data=kwargs.get('data'), alpha=kwargs.get('alpha'))\n",
    "        \n",
    "        # Barh    \n",
    "        elif kind == 'barh':\n",
    "            if kwargs.get('height') == None:\n",
    "                height = 0.8\n",
    "            else:\n",
    "                height = kwargs.get('height')\n",
    "            if kwargs.get('align') == None:\n",
    "                align = 'center'\n",
    "            else:\n",
    "                align = kwargs.get('align')\n",
    "        \n",
    "            ax.barh(y = x, width= y_data, height= height, align= align,\n",
    "                   data=kwargs.get('data'), alpha=kwargs.get('alpha'))\n",
    "        \n",
    "        # ajustando elementos gráficos\n",
    "        ax.set_xlabel(kwargs.get('xlabel'))\n",
    "        ax.set_ylabel(kwargs.get('ylabel'))\n",
    "        plt.title(kwargs.get('title'))\n",
    "        \n",
    "        if kwargs.get('ylim') != None:\n",
    "            ax.set_ylim(kwargs.get('ylim'))\n",
    "        if kwargs.get('xlim') != None:\n",
    "            ax.set_xlim(kwargs.get('xlim'))\n",
    "        \n",
    "        if remove_frames.lower() == 'all':\n",
    "            ax.spines['top'].set_visible(False)\n",
    "            ax.spines['right'].set_visible(False)\n",
    "            ax.spines['bottom'].set_visible(False)\n",
    "            ax.spines['left'].set_visible(False)\n",
    "        if remove_frames.lower() == 'left':\n",
    "            ax.spines['left'].set_visible(False)\n",
    "        if remove_frames.lower() == 'right':\n",
    "            ax.spines['right'].set_visible(False)\n",
    "        if remove_frames.lower() == 'bottom':\n",
    "            ax.spines['bottom'].set_visible(False)\n",
    "        if remove_frames.lower() == 'top':\n",
    "            ax.spines['top'].set_visible(False)\n",
    "            \n",
    "        ### Fim do plot\n",
    "\n",
    "            \n",
    "    # def GetLinha(linha)\n",
    "    # def GetColuna(coluna)\n",
    "    # def GetLoc(linha,coluna)\n",
    "    # def Query()"
   ]
  },
  {
   "cell_type": "code",
   "execution_count": 204,
   "metadata": {},
   "outputs": [],
   "source": [
    "df = DataFrame({'b': ['a','b','c'], 'ala': [1.1,2.1,3], 'c':[1,2,3]})"
   ]
  },
  {
   "cell_type": "code",
   "execution_count": 206,
   "metadata": {},
   "outputs": [
    {
     "data": {
      "image/png": "[encoded data removed]",
      "text/plain": [
       "<Figure size 640x440 with 1 Axes>"
      ]
     },
     "metadata": {},
     "output_type": "display_data"
    }
   ],
   "source": [
    "df.plot(kind='line', remove_frames='all', title='Título de teste', alpha=0.5, style='ggplot')"
   ]
  },
  {
   "cell_type": "code",
   "execution_count": 136,
   "metadata": {},
   "outputs": [
    {
     "data": {
      "text/plain": [
       "['Accent',\n",
       " 'Accent_r',\n",
       " 'Blues',\n",
       " 'Blues_r',\n",
       " 'BrBG',\n",
       " 'BrBG_r',\n",
       " 'BuGn',\n",
       " 'BuGn_r',\n",
       " 'BuPu',\n",
       " 'BuPu_r',\n",
       " 'CMRmap',\n",
       " 'CMRmap_r',\n",
       " 'Dark2',\n",
       " 'Dark2_r',\n",
       " 'GnBu',\n",
       " 'GnBu_r',\n",
       " 'Greens',\n",
       " 'Greens_r',\n",
       " 'Greys',\n",
       " 'Greys_r',\n",
       " 'OrRd',\n",
       " 'OrRd_r',\n",
       " 'Oranges',\n",
       " 'Oranges_r',\n",
       " 'PRGn',\n",
       " 'PRGn_r',\n",
       " 'Paired',\n",
       " 'Paired_r',\n",
       " 'Pastel1',\n",
       " 'Pastel1_r',\n",
       " 'Pastel2',\n",
       " 'Pastel2_r',\n",
       " 'PiYG',\n",
       " 'PiYG_r',\n",
       " 'PuBu',\n",
       " 'PuBuGn',\n",
       " 'PuBuGn_r',\n",
       " 'PuBu_r',\n",
       " 'PuOr',\n",
       " 'PuOr_r',\n",
       " 'PuRd',\n",
       " 'PuRd_r',\n",
       " 'Purples',\n",
       " 'Purples_r',\n",
       " 'RdBu',\n",
       " 'RdBu_r',\n",
       " 'RdGy',\n",
       " 'RdGy_r',\n",
       " 'RdPu',\n",
       " 'RdPu_r',\n",
       " 'RdYlBu',\n",
       " 'RdYlBu_r',\n",
       " 'RdYlGn',\n",
       " 'RdYlGn_r',\n",
       " 'Reds',\n",
       " 'Reds_r',\n",
       " 'Set1',\n",
       " 'Set1_r',\n",
       " 'Set2',\n",
       " 'Set2_r',\n",
       " 'Set3',\n",
       " 'Set3_r',\n",
       " 'Spectral',\n",
       " 'Spectral_r',\n",
       " 'Wistia',\n",
       " 'Wistia_r',\n",
       " 'YlGn',\n",
       " 'YlGnBu',\n",
       " 'YlGnBu_r',\n",
       " 'YlGn_r',\n",
       " 'YlOrBr',\n",
       " 'YlOrBr_r',\n",
       " 'YlOrRd',\n",
       " 'YlOrRd_r',\n",
       " 'afmhot',\n",
       " 'afmhot_r',\n",
       " 'autumn',\n",
       " 'autumn_r',\n",
       " 'binary',\n",
       " 'binary_r',\n",
       " 'bone',\n",
       " 'bone_r',\n",
       " 'brg',\n",
       " 'brg_r',\n",
       " 'bwr',\n",
       " 'bwr_r',\n",
       " 'cividis',\n",
       " 'cividis_r',\n",
       " 'cool',\n",
       " 'cool_r',\n",
       " 'coolwarm',\n",
       " 'coolwarm_r',\n",
       " 'copper',\n",
       " 'copper_r',\n",
       " 'cubehelix',\n",
       " 'cubehelix_r',\n",
       " 'flag',\n",
       " 'flag_r',\n",
       " 'gist_earth',\n",
       " 'gist_earth_r',\n",
       " 'gist_gray',\n",
       " 'gist_gray_r',\n",
       " 'gist_heat',\n",
       " 'gist_heat_r',\n",
       " 'gist_ncar',\n",
       " 'gist_ncar_r',\n",
       " 'gist_rainbow',\n",
       " 'gist_rainbow_r',\n",
       " 'gist_stern',\n",
       " 'gist_stern_r',\n",
       " 'gist_yarg',\n",
       " 'gist_yarg_r',\n",
       " 'gnuplot',\n",
       " 'gnuplot2',\n",
       " 'gnuplot2_r',\n",
       " 'gnuplot_r',\n",
       " 'gray',\n",
       " 'gray_r',\n",
       " 'hot',\n",
       " 'hot_r',\n",
       " 'hsv',\n",
       " 'hsv_r',\n",
       " 'inferno',\n",
       " 'inferno_r',\n",
       " 'jet',\n",
       " 'jet_r',\n",
       " 'magma',\n",
       " 'magma_r',\n",
       " 'nipy_spectral',\n",
       " 'nipy_spectral_r',\n",
       " 'ocean',\n",
       " 'ocean_r',\n",
       " 'pink',\n",
       " 'pink_r',\n",
       " 'plasma',\n",
       " 'plasma_r',\n",
       " 'prism',\n",
       " 'prism_r',\n",
       " 'rainbow',\n",
       " 'rainbow_r',\n",
       " 'seismic',\n",
       " 'seismic_r',\n",
       " 'spring',\n",
       " 'spring_r',\n",
       " 'summer',\n",
       " 'summer_r',\n",
       " 'tab10',\n",
       " 'tab10_r',\n",
       " 'tab20',\n",
       " 'tab20_r',\n",
       " 'tab20b',\n",
       " 'tab20b_r',\n",
       " 'tab20c',\n",
       " 'tab20c_r',\n",
       " 'terrain',\n",
       " 'terrain_r',\n",
       " 'twilight',\n",
       " 'twilight_r',\n",
       " 'twilight_shifted',\n",
       " 'twilight_shifted_r',\n",
       " 'viridis',\n",
       " 'viridis_r',\n",
       " 'winter',\n",
       " 'winter_r']"
      ]
     },
     "execution_count": 136,
     "metadata": {},
     "output_type": "execute_result"
    }
   ],
   "source": [
    "for coluna in lista_colunas:\n",
    "    ax.plot(d[coluna])"
   ]
  },
  {
   "cell_type": "code",
   "execution_count": 108,
   "metadata": {},
   "outputs": [
    {
     "data": {
      "image/png": "[encoded data removed]",
      "text/plain": [
       "<Figure size 640x440 with 1 Axes>"
      ]
     },
     "metadata": {},
     "output_type": "display_data"
    }
   ],
   "source": [
    "fig, ax = plt.subplots()"
   ]
  },
  {
   "cell_type": "code",
   "execution_count": 138,
   "metadata": {},
   "outputs": [],
   "source": [
    "import numpy as np"
   ]
  },
  {
   "cell_type": "code",
   "execution_count": 150,
   "metadata": {},
   "outputs": [
    {
     "data": {
      "text/plain": [
       "[<matplotlib.lines.Line2D at 0x7fb0fdb45940>]"
      ]
     },
     "execution_count": 150,
     "metadata": {},
     "output_type": "execute_result"
    },
    {
     "data": {
      "image/png": "[encoded data removed]",
      "text/plain": [
       "<Figure size 640x440 with 1 Axes>"
      ]
     },
     "metadata": {},
     "output_type": "display_data"
    }
   ],
   "source": [
    "fig, ax = plt.subplots()\n",
    "a = np.arange(1,10,step=1)\n",
    "b = np.arange(10,100, step=10)\n",
    "\n",
    "ax.plot(a)\n",
    "ax.plot(b)"
   ]
  },
  {
   "cell_type": "code",
   "execution_count": 146,
   "metadata": {},
   "outputs": [],
   "source": []
  },
  {
   "cell_type": "code",
   "execution_count": 61,
   "metadata": {},
   "outputs": [
    {
     "data": {
      "text/plain": [
       "[<matplotlib.lines.Line2D at 0x7f109c86d9e8>]"
      ]
     },
     "execution_count": 61,
     "metadata": {},
     "output_type": "execute_result"
    }
   ],
   "source": []
  },
  {
   "cell_type": "code",
   "execution_count": 43,
   "metadata": {},
   "outputs": [
    {
     "data": {
      "text/plain": [
       "{'b': 'string', 'a': 'double', 'c': 'int'}"
      ]
     },
     "execution_count": 43,
     "metadata": {},
     "output_type": "execute_result"
    }
   ],
   "source": [
    "df.columns"
   ]
  },
  {
   "cell_type": "code",
   "execution_count": 44,
   "metadata": {},
   "outputs": [
    {
     "name": "stdout",
     "output_type": "stream",
     "text": [
      "< macaco.DataFrame >\n",
      "RangeIndex: \n",
      "Total of lines: 3\n",
      "Data (3 columns):\n",
      "b   3 non-null entries  string\n",
      "a   3 non-null entries  double\n",
      "c   3 non-null entries  int\n"
     ]
    }
   ],
   "source": [
    "df.info()"
   ]
  },
  {
   "cell_type": "code",
   "execution_count": 45,
   "metadata": {},
   "outputs": [
    {
     "name": "stdout",
     "output_type": "stream",
     "text": [
      "['b', 'a', 'c']\n",
      "['b', 2.1, 2]\n",
      "['c', 3.0, 3]\n"
     ]
    }
   ],
   "source": [
    "df.tail(2)"
   ]
  },
  {
   "cell_type": "markdown",
   "metadata": {},
   "source": [
    "## Importando o pacote Macaco"
   ]
  },
  {
   "cell_type": "code",
   "execution_count": 3,
   "metadata": {},
   "outputs": [],
   "source": [
    "import macaco as mc"
   ]
  },
  {
   "cell_type": "markdown",
   "metadata": {},
   "source": [
    "## Criando dataframe"
   ]
  },
  {
   "cell_type": "code",
   "execution_count": 4,
   "metadata": {},
   "outputs": [],
   "source": [
    "df = mc.DataFrame({'b': ['a','b','c'], 'a': [1.1,2.1,3]})"
   ]
  },
  {
   "cell_type": "code",
   "execution_count": 5,
   "metadata": {},
   "outputs": [
    {
     "data": {
      "text/plain": [
       "{'b': 'string', 'a': 'double'}"
      ]
     },
     "execution_count": 5,
     "metadata": {},
     "output_type": "execute_result"
    }
   ],
   "source": [
    "df.columns"
   ]
  },
  {
   "cell_type": "markdown",
   "metadata": {},
   "source": [
    "## Inserindo mais uma coluna"
   ]
  },
  {
   "cell_type": "code",
   "execution_count": 9,
   "metadata": {},
   "outputs": [],
   "source": [
    "df.addColumn([1,2,3],'c')"
   ]
  },
  {
   "cell_type": "markdown",
   "metadata": {},
   "source": [
    "## Retornando coluna"
   ]
  },
  {
   "cell_type": "code",
   "execution_count": 10,
   "metadata": {},
   "outputs": [
    {
     "data": {
      "text/plain": [
       "[1, 2, 3]"
      ]
     },
     "execution_count": 10,
     "metadata": {},
     "output_type": "execute_result"
    }
   ],
   "source": [
    "df.getColumn('c')"
   ]
  },
  {
   "cell_type": "markdown",
   "metadata": {},
   "source": [
    "## Removendo coluna"
   ]
  },
  {
   "cell_type": "code",
   "execution_count": 11,
   "metadata": {},
   "outputs": [],
   "source": [
    "df.popColumn('c')"
   ]
  },
  {
   "cell_type": "code",
   "execution_count": 12,
   "metadata": {},
   "outputs": [
    {
     "data": {
      "text/plain": [
       "{'b': 'string', 'a': 'double'}"
      ]
     },
     "execution_count": 12,
     "metadata": {},
     "output_type": "execute_result"
    }
   ],
   "source": [
    "df.columns"
   ]
  },
  {
   "cell_type": "code",
   "execution_count": null,
   "metadata": {},
   "outputs": [],
   "source": []
  }
 ],
 "metadata": {
  "kernelspec": {
   "display_name": "Python 3",
   "language": "python",
   "name": "python3"
  },
  "language_info": {
   "codemirror_mode": {
    "name": "ipython",
    "version": 3
   },
   "file_extension": ".py",
   "mimetype": "text/x-python",
   "name": "python",
   "nbconvert_exporter": "python",
   "pygments_lexer": "ipython3",
   "version": "3.7.3"
  }
 },
 "nbformat": 4,
 "nbformat_minor": 2
}
